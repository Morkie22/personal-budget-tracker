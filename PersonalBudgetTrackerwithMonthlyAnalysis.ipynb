{
 "cells": [
  {
   "cell_type": "code",
   "execution_count": 1,
   "id": "4c7ee3fb-ecfb-44da-acbc-69779117e05b",
   "metadata": {},
   "outputs": [],
   "source": [
    "import pandas as pd\n",
    "import numpy as np\n"
   ]
  },
  {
   "cell_type": "code",
   "execution_count": 2,
   "id": "5c831bb5-a617-4a46-9bc7-e4f1421b109a",
   "metadata": {},
   "outputs": [],
   "source": [
    "# Simulate 3 months of income and expenses\n",
    "data = {\n",
    "    'Date': pd.date_range(start='2024-01-01', periods=90, freq='D'),\n",
    "    'Category': np.random.choice(['Groceries', 'Rent', 'Utilities', 'Transport', 'Dining', 'Income'], size=90),\n",
    "    'Amount': np.random.uniform(-200, 3000, size=90)  # Expenses are negative, income is positive\n",
    "}\n",
    "\n",
    "df = pd.DataFrame(data)\n",
    "\n",
    "# Adjust Income to be always positive, others negative\n",
    "df['Amount'] = np.where(df['Category'] == 'Income', abs(df['Amount']), -abs(df['Amount']))\n"
   ]
  },
  {
   "cell_type": "code",
   "execution_count": 3,
   "id": "b9adbb69-f093-4267-b59d-31c1703625c3",
   "metadata": {},
   "outputs": [
    {
     "name": "stdout",
     "output_type": "stream",
     "text": [
      "        Date   Category       Amount    Month\n",
      "0 2024-01-01  Utilities -1209.442566  2024-01\n",
      "1 2024-01-02  Groceries  -575.851977  2024-01\n",
      "2 2024-01-03       Rent  -173.207980  2024-01\n",
      "3 2024-01-04  Transport -2818.371110  2024-01\n",
      "4 2024-01-05  Groceries  -428.842312  2024-01\n"
     ]
    }
   ],
   "source": [
    "# Convert Date column\n",
    "df['Date'] = pd.to_datetime(df['Date'])\n",
    "\n",
    "# Add Month column\n",
    "df['Month'] = df['Date'].dt.to_period('M')\n",
    "\n",
    "# Preview\n",
    "print(df.head())\n"
   ]
  },
  {
   "cell_type": "code",
   "execution_count": 4,
   "id": "c4815c3f-e6a6-43a6-8001-5fbbe99886e5",
   "metadata": {},
   "outputs": [
    {
     "name": "stdout",
     "output_type": "stream",
     "text": [
      "\n",
      "Monthly Summary:\n",
      " Category        Dining    Groceries       Income          Rent    Transport  \\\n",
      "Month                                                                         \n",
      "2024-01  -13093.292296 -5436.610016  6280.153836  -1439.891952 -7936.745409   \n",
      "2024-02   -5427.806873 -8665.509929  7167.319154 -13318.007686 -5931.271242   \n",
      "2024-03    -825.859868 -8912.448188  9619.336903 -10137.697010 -3356.722143   \n",
      "\n",
      "Category     Utilities       Savings  \n",
      "Month                                 \n",
      "2024-01   -1209.442566 -22835.828404  \n",
      "2024-02   -5628.795623 -31804.072200  \n",
      "2024-03  -12396.933751 -26010.324056  \n"
     ]
    }
   ],
   "source": [
    "# Total income and expenses per month\n",
    "monthly_summary = df.groupby(['Month', 'Category'])['Amount'].sum().unstack().fillna(0)\n",
    "\n",
    "# Calculate savings\n",
    "monthly_summary['Savings'] = monthly_summary['Income'] + monthly_summary.drop(columns='Income').sum(axis=1)\n",
    "\n",
    "print(\"\\nMonthly Summary:\\n\", monthly_summary)\n"
   ]
  },
  {
   "cell_type": "code",
   "execution_count": 5,
   "id": "fa5ba9f6-1485-4648-b147-a5aef4fcb3c9",
   "metadata": {},
   "outputs": [
    {
     "name": "stdout",
     "output_type": "stream",
     "text": [
      "\n",
      "Total Spending by Category:\n",
      " Category\n",
      "Dining      -19346.959037\n",
      "Groceries   -23014.568133\n",
      "Rent        -24895.596648\n",
      "Transport   -17224.738793\n",
      "Utilities   -19235.171940\n",
      "Name: Amount, dtype: float64\n",
      "\n",
      "Average Monthly Savings: $ -26883.41\n"
     ]
    }
   ],
   "source": [
    "# Highest spending category overall\n",
    "total_by_category = df[df['Category'] != 'Income'].groupby('Category')['Amount'].sum()\n",
    "print(\"\\nTotal Spending by Category:\\n\", total_by_category)\n",
    "\n",
    "# Monthly averages\n",
    "avg_savings = monthly_summary['Savings'].mean()\n",
    "print(\"\\nAverage Monthly Savings: $\", round(avg_savings, 2))\n"
   ]
  },
  {
   "cell_type": "code",
   "execution_count": 6,
   "id": "afe4bfb6-b8bf-4884-9178-73b787cbeac3",
   "metadata": {},
   "outputs": [],
   "source": [
    "df.to_csv('personal_budget_log.csv', index=False)\n",
    "monthly_summary.to_csv('monthly_budget_summary.csv')\n"
   ]
  },
  {
   "cell_type": "code",
   "execution_count": 7,
   "id": "be773774-d718-4e0a-8a15-fe29aae2a944",
   "metadata": {},
   "outputs": [
    {
     "data": {
      "image/png": "[encoded data removed]",
      "text/plain": [
       "<Figure size 640x480 with 1 Axes>"
      ]
     },
     "metadata": {},
     "output_type": "display_data"
    }
   ],
   "source": [
    "import matplotlib.pyplot as plt\n",
    "\n",
    "monthly_summary['Savings'].plot(kind='bar', title=\"Monthly Savings\")\n",
    "plt.ylabel(\"Amount ($)\")\n",
    "plt.xlabel(\"Month\")\n",
    "plt.tight_layout()\n",
    "plt.show()\n"
   ]
  },
  {
   "cell_type": "code",
   "execution_count": null,
   "id": "e26ac782-58f9-4a6d-b8af-b4c4123799ae",
   "metadata": {},
   "outputs": [],
   "source": []
  }
 ],
 "metadata": {
  "kernelspec": {
   "display_name": "Python 3 (ipykernel)",
   "language": "python",
   "name": "python3"
  },
  "language_info": {
   "codemirror_mode": {
    "name": "ipython",
    "version": 3
   },
   "file_extension": ".py",
   "mimetype": "text/x-python",
   "name": "python",
   "nbconvert_exporter": "python",
   "pygments_lexer": "ipython3",
   "version": "3.12.7"
  }
 },
 "nbformat": 4,
 "nbformat_minor": 5
}
